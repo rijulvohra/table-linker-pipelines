{
 "cells": [
  {
   "cell_type": "code",
   "execution_count": 1,
   "id": "primary-mechanism",
   "metadata": {},
   "outputs": [],
   "source": [
    "import pandas as pd"
   ]
  },
  {
   "cell_type": "code",
   "execution_count": 2,
   "id": "complimentary-democracy",
   "metadata": {},
   "outputs": [],
   "source": [
    "path = '/Users/rijulvohra/Documents/work/Novartis-ISI/table_linker_pipeline/temp/final_score.csv'"
   ]
  },
  {
   "cell_type": "code",
   "execution_count": 3,
   "id": "resistant-popularity",
   "metadata": {},
   "outputs": [],
   "source": [
    "df = pd.read_csv(path)"
   ]
  },
  {
   "cell_type": "code",
   "execution_count": 21,
   "id": "affiliated-division",
   "metadata": {},
   "outputs": [],
   "source": [
    "topk_df = df.groupby(['column', 'row']).apply(lambda x: x.sort_values(['model_prediction'], ascending=False))\\\n",
    "            .reset_index(drop=True).drop_duplicates(subset='kg_id',keep='last')"
   ]
  },
  {
   "cell_type": "code",
   "execution_count": 22,
   "id": "wound-humidity",
   "metadata": {},
   "outputs": [],
   "source": [
    "grouped_obj = topk_df.groupby(['row','column'])"
   ]
  },
  {
   "cell_type": "code",
   "execution_count": 23,
   "id": "lonely-karma",
   "metadata": {},
   "outputs": [
    {
     "name": "stdout",
     "output_type": "stream",
     "text": [
      "((8, 0),      column  row                       label                          context  \\\n",
      "770       0    8  Nijmegen breakage syndrome  NBS (NBN)|NHEJ|lymphoid cancers   \n",
      "771       0    8  Nijmegen breakage syndrome  NBS (NBN)|NHEJ|lymphoid cancers   \n",
      "772       0    8  Nijmegen breakage syndrome  NBS (NBN)|NHEJ|lymphoid cancers   \n",
      "773       0    8  Nijmegen breakage syndrome  NBS (NBN)|NHEJ|lymphoid cancers   \n",
      "774       0    8  Nijmegen breakage syndrome  NBS (NBN)|NHEJ|lymphoid cancers   \n",
      "..      ...  ...                         ...                              ...   \n",
      "863       0    8  Nijmegen breakage syndrome  NBS (NBN)|NHEJ|lymphoid cancers   \n",
      "864       0    8  Nijmegen breakage syndrome  NBS (NBN)|NHEJ|lymphoid cancers   \n",
      "865       0    8  Nijmegen breakage syndrome  NBS (NBN)|NHEJ|lymphoid cancers   \n",
      "868       0    8  Nijmegen breakage syndrome  NBS (NBN)|NHEJ|lymphoid cancers   \n",
      "869       0    8  Nijmegen breakage syndrome  NBS (NBN)|NHEJ|lymphoid cancers   \n",
      "\n",
      "                    label_clean       kg_id  \\\n",
      "770  Nijmegen breakage syndrome    Q1250362   \n",
      "771  Nijmegen breakage syndrome      Q47887   \n",
      "772  Nijmegen breakage syndrome   Q95172170   \n",
      "773  Nijmegen breakage syndrome   Q55395613   \n",
      "774  Nijmegen breakage syndrome     Q632004   \n",
      "..                          ...         ...   \n",
      "863  Nijmegen breakage syndrome    Q2247263   \n",
      "864  Nijmegen breakage syndrome  Q102176944   \n",
      "865  Nijmegen breakage syndrome     Q698676   \n",
      "868  Nijmegen breakage syndrome   Q28419286   \n",
      "869  Nijmegen breakage syndrome   Q65472505   \n",
      "\n",
      "                                             kg_labels  \\\n",
      "770                         Nijmegen breakage syndrome   \n",
      "771                                           Nijmegen   \n",
      "772  Low Dose Treosulfan Based Conditioning Regimen...   \n",
      "773           Nijmegen breakage syndrome-like disorder   \n",
      "774                        Radboud University Nijmegen   \n",
      "..                                                 ...   \n",
      "863                                      snow breakage   \n",
      "864                                Karl-Heinz Brakhage   \n",
      "865                                      Stan Brakhage   \n",
      "868                                 Breakages, Limited   \n",
      "869                                      Nancy Beckage   \n",
      "\n",
      "                                            kg_aliases           method  \\\n",
      "770  ataxia telangiectasia variant 1 (AT-V1)|Microc...      exact-match   \n",
      "771                                           Nimeguen  fuzzy-augmented   \n",
      "772                                                NaN  fuzzy-augmented   \n",
      "773  NIJMEGEN BREAKAGE SYNDROME-LIKE DISORDER; NBSL...  fuzzy-augmented   \n",
      "774  Radboud University|University of Nijmegen|Cath...  fuzzy-augmented   \n",
      "..                                                 ...              ...   \n",
      "863                                                NaN  fuzzy-augmented   \n",
      "864                                                NaN  fuzzy-augmented   \n",
      "865              Robert Sanders|James Stanley Brakhage  fuzzy-augmented   \n",
      "868                                                NaN  fuzzy-augmented   \n",
      "869                            Nancy Elizabeth Beckage  fuzzy-augmented   \n",
      "\n",
      "                                       kg_descriptions  ...  monge_elkan  \\\n",
      "770                                      human disease  ...     1.000000   \n",
      "771                    municipality in the Netherlands  ...     0.722222   \n",
      "772                                     clinical trial  ...     1.000000   \n",
      "773                                      human disease  ...     0.974359   \n",
      "774            University in Nijmegen, the Netherlands  ...     0.722222   \n",
      "..                                                 ...  ...          ...   \n",
      "863                                                NaN  ...     0.722222   \n",
      "864  Ph.D. Rheinisch-Westfälische Technische Hochsc...  ...     0.638889   \n",
      "865                     American filmmaker (1933-2003)  ...     0.616667   \n",
      "868  fictional corporation in a play by George Bern...  ...     0.681508   \n",
      "869                              American entomologist  ...     0.625000   \n",
      "\n",
      "     des_cont_jaccard  jaro_winkler  votes  graph-embedding-score  singleton  \\\n",
      "770               0.0      1.000000      1               0.897795          1   \n",
      "771               0.0      0.861538      0               0.372814          1   \n",
      "772               0.0      0.448675      1               0.587834          1   \n",
      "773               0.0      0.930000      0               0.800498          1   \n",
      "774               0.0      0.604296      0               0.290584          1   \n",
      "..                ...           ...    ...                    ...        ...   \n",
      "863               0.0      0.584615      0               0.000000          1   \n",
      "864               0.0      0.515826      0               0.220285          1   \n",
      "865               0.0      0.568376      0               0.167683          1   \n",
      "868               0.0      0.556851      0               0.000000          1   \n",
      "869               0.0      0.544160      0               0.185278          1   \n",
      "\n",
      "     num_char  num_tokens  reciprocal_rank  model_prediction  \n",
      "770        26           3         0.009950          0.972273  \n",
      "771         8           1         0.027027         -0.093968  \n",
      "772        85          12         0.010638         -0.184062  \n",
      "773        40           4         0.010204         -0.497165  \n",
      "774        27           3         0.052632         -0.579429  \n",
      "..        ...         ...              ...               ...  \n",
      "863        13           2         0.500000         -1.000000  \n",
      "864        19           2         0.111111         -1.000000  \n",
      "865        13           2         0.250000         -1.000000  \n",
      "868        18           2         0.500000         -1.000000  \n",
      "869        13           2         0.166667         -1.000000  \n",
      "\n",
      "[86 rows x 23 columns])\n"
     ]
    }
   ],
   "source": [
    "for cell in grouped_obj:\n",
    "    #print(cell)\n",
    "    if cell[0] == (8,0):\n",
    "        print(cell)"
   ]
  },
  {
   "cell_type": "code",
   "execution_count": null,
   "id": "attached-fountain",
   "metadata": {},
   "outputs": [],
   "source": []
  }
 ],
 "metadata": {
  "kernelspec": {
   "display_name": "Python 3",
   "language": "python",
   "name": "python3"
  },
  "language_info": {
   "codemirror_mode": {
    "name": "ipython",
    "version": 3
   },
   "file_extension": ".py",
   "mimetype": "text/x-python",
   "name": "python",
   "nbconvert_exporter": "python",
   "pygments_lexer": "ipython3",
   "version": "3.7.9"
  }
 },
 "nbformat": 4,
 "nbformat_minor": 5
}
